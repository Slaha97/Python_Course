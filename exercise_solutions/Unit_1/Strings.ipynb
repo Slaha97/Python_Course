{
  "nbformat": 4,
  "nbformat_minor": 0,
  "metadata": {
    "colab": {
      "provenance": []
    },
    "kernelspec": {
      "name": "python3",
      "display_name": "Python 3"
    },
    "language_info": {
      "name": "python"
    }
  },
  "cells": [
    {
      "cell_type": "markdown",
      "source": [
        "* Use what you know about the print() function to print out the phrase \"Hello World\" . Make sure your capitalization and spacing match."
      ],
      "metadata": {
        "id": "M1thrqiCXVFa"
      }
    },
    {
      "cell_type": "code",
      "execution_count": 2,
      "metadata": {
        "colab": {
          "base_uri": "https://localhost:8080/"
        },
        "id": "dN3LSWt6XUcP",
        "outputId": "427231d2-e27b-4758-8c5e-8dc7a9f7f74a"
      },
      "outputs": [
        {
          "output_type": "stream",
          "name": "stdout",
          "text": [
            "Hello World\n"
          ]
        }
      ],
      "source": [
        "print(\"Hello World\")"
      ]
    },
    {
      "cell_type": "markdown",
      "source": [
        "* Write a string index that returns just the letter 'r'  from 'Hello World' . For example, 'Hello World'[0]  returns 'H'\n",
        "\n",
        "  You should only write one line of code for this. Do not assign a variable name to the string."
      ],
      "metadata": {
        "id": "mezsGMwOb5Tr"
      }
    },
    {
      "cell_type": "code",
      "source": [
        "\"Hello World\"[-3]"
      ],
      "metadata": {
        "colab": {
          "base_uri": "https://localhost:8080/",
          "height": 36
        },
        "id": "v5VDlXJacBoH",
        "outputId": "dd54e88c-6224-470f-cb7e-bfe4bbf99b01"
      },
      "execution_count": 5,
      "outputs": [
        {
          "output_type": "execute_result",
          "data": {
            "text/plain": [
              "'r'"
            ],
            "application/vnd.google.colaboratory.intrinsic+json": {
              "type": "string"
            }
          },
          "metadata": {},
          "execution_count": 5
        }
      ]
    },
    {
      "cell_type": "markdown",
      "source": [
        "* Use string slicing to grab the word 'ink'  from inside 'tinker'  For example, 'education'[3:6]  returns 'cat'. Remember that when slicing you only go up to but not including the end index.\n",
        "\n",
        "  You should only write one line of code for this. Do not assign a variable name to the string."
      ],
      "metadata": {
        "id": "S2fVQZOGb7l6"
      }
    },
    {
      "cell_type": "code",
      "source": [
        "\"tinker\"[1:4]"
      ],
      "metadata": {
        "colab": {
          "base_uri": "https://localhost:8080/",
          "height": 36
        },
        "id": "rTT_Xfi7cJn9",
        "outputId": "df3c521f-70c8-4b94-dcf5-c87b7f22815e"
      },
      "execution_count": 6,
      "outputs": [
        {
          "output_type": "execute_result",
          "data": {
            "text/plain": [
              "'ink'"
            ],
            "application/vnd.google.colaboratory.intrinsic+json": {
              "type": "string"
            }
          },
          "metadata": {},
          "execution_count": 6
        }
      ]
    },
    {
      "cell_type": "markdown",
      "source": [
        "* Write an expression using any of the string formatting methods we have learned (except f-strings, see note below) to return the phrase 'Python rules!' . For example, these phrases both return 'I like apples' :\n",
        "\n",
        "  'I like %s' %'apples'<br>\n",
        "  'I like {}'.format('apples')\n",
        "\n",
        "  Your solution should be entered on one line. You can not use variable names, only the strings themselves.\n",
        "\n",
        "  NOTE: At this time, f-strings won't work! Udemy Coding Exercises use Python 3.5.2, and f-strings require Python 3.6 or higher."
      ],
      "metadata": {
        "id": "HHY2DmBefEbw"
      }
    },
    {
      "cell_type": "code",
      "source": [
        "'%s'%'Python rules!'"
      ],
      "metadata": {
        "colab": {
          "base_uri": "https://localhost:8080/",
          "height": 36
        },
        "id": "xFkL-l3ncaMD",
        "outputId": "f3cb0e3b-f080-49d2-a240-19c21a7bab02"
      },
      "execution_count": 7,
      "outputs": [
        {
          "output_type": "execute_result",
          "data": {
            "text/plain": [
              "'Python rules!'"
            ],
            "application/vnd.google.colaboratory.intrinsic+json": {
              "type": "string"
            }
          },
          "metadata": {},
          "execution_count": 7
        }
      ]
    }
  ]
}