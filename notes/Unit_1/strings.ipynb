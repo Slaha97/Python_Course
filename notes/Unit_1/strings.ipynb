{
  "nbformat": 4,
  "nbformat_minor": 0,
  "metadata": {
    "colab": {
      "provenance": []
    },
    "kernelspec": {
      "name": "python3",
      "display_name": "Python 3"
    },
    "language_info": {
      "name": "python"
    }
  },
  "cells": [
    {
      "cell_type": "markdown",
      "source": [
        "Strings are sequences of characters, using the syntax of either single  quotes or double quotes:\n",
        "* 'hello'\n",
        "* \"Hello\"\n",
        "* \" I don't do that \"\n"
      ],
      "metadata": {
        "id": "N1JSjUt3TAwq"
      }
    },
    {
      "cell_type": "markdown",
      "source": [
        "Because strings are ordered sequences it means we can using indexing and slicing to grab sub-sections of the string.\n",
        "* Indexing notation uses [ ] notation after the string (or variable assigned the string).\n",
        "* Indexing allows you to grab a single character from the string...\n"
      ],
      "metadata": {
        "id": "gWqDagcVTRqT"
      }
    },
    {
      "cell_type": "markdown",
      "source": [
        "These actions use [ ] square brackets and a number index to indicate positions of what you wish to grab.<br>\n",
        "\n",
        "![image.png](data:image/png;base64,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)\n"
      ],
      "metadata": {
        "id": "pBVR8t4pTf1T"
      }
    },
    {
      "cell_type": "markdown",
      "source": [
        "Slicing allows you to grab a subsection of multiple characters, a “slice” of the string.\n",
        "* This has the following syntax:\n",
        "[start:stop:step]\n",
        "* start is a numerical index for the slice start\n"
      ],
      "metadata": {
        "id": "WY1e8KcKUApi"
      }
    },
    {
      "cell_type": "markdown",
      "source": [
        "\"#\" denotes single line comment(s)"
      ],
      "metadata": {
        "id": "adNpwaztUP6b"
      }
    },
    {
      "cell_type": "code",
      "source": [
        "'hello'  #single quotes allowed"
      ],
      "metadata": {
        "colab": {
          "base_uri": "https://localhost:8080/",
          "height": 36
        },
        "id": "QbZuy0GeTFEH",
        "outputId": "7e02cbfa-0900-4d2f-8bef-937a85888b8d"
      },
      "execution_count": 17,
      "outputs": [
        {
          "output_type": "execute_result",
          "data": {
            "text/plain": [
              "'hello'"
            ],
            "application/vnd.google.colaboratory.intrinsic+json": {
              "type": "string"
            }
          },
          "metadata": {},
          "execution_count": 17
        }
      ]
    },
    {
      "cell_type": "code",
      "source": [
        "\"world\"   # duble quotes also allowed"
      ],
      "metadata": {
        "colab": {
          "base_uri": "https://localhost:8080/",
          "height": 36
        },
        "id": "2sGGdMBVUH6S",
        "outputId": "73ec24c9-98ec-4493-882d-68ed71e149b9"
      },
      "execution_count": 19,
      "outputs": [
        {
          "output_type": "execute_result",
          "data": {
            "text/plain": [
              "'world'"
            ],
            "application/vnd.google.colaboratory.intrinsic+json": {
              "type": "string"
            }
          },
          "metadata": {},
          "execution_count": 19
        }
      ]
    },
    {
      "cell_type": "code",
      "source": [
        "'This is also a string.'"
      ],
      "metadata": {
        "colab": {
          "base_uri": "https://localhost:8080/",
          "height": 36
        },
        "id": "sGbqZVmdUOxn",
        "outputId": "cbb67fde-9d7f-4ff5-d1e5-842df7f32844"
      },
      "execution_count": 20,
      "outputs": [
        {
          "output_type": "execute_result",
          "data": {
            "text/plain": [
              "'This is also a string.'"
            ],
            "application/vnd.google.colaboratory.intrinsic+json": {
              "type": "string"
            }
          },
          "metadata": {},
          "execution_count": 20
        }
      ]
    },
    {
      "cell_type": "code",
      "source": [
        "#error since single quotes cannot be used witin single quotes\n",
        "'I'm going on a run.'"
      ],
      "metadata": {
        "colab": {
          "base_uri": "https://localhost:8080/",
          "height": 106
        },
        "id": "S_GsRElsUbPM",
        "outputId": "a2655965-56c5-4dcb-9b73-32c163ad2a96"
      },
      "execution_count": 24,
      "outputs": [
        {
          "output_type": "error",
          "ename": "SyntaxError",
          "evalue": "unterminated string literal (detected at line 2) (ipython-input-1469528538.py, line 2)",
          "traceback": [
            "\u001b[0;36m  File \u001b[0;32m\"/tmp/ipython-input-1469528538.py\"\u001b[0;36m, line \u001b[0;32m2\u001b[0m\n\u001b[0;31m    'I'm going on a run.'\u001b[0m\n\u001b[0m                        ^\u001b[0m\n\u001b[0;31mSyntaxError\u001b[0m\u001b[0;31m:\u001b[0m unterminated string literal (detected at line 2)\n"
          ]
        }
      ]
    },
    {
      "cell_type": "code",
      "source": [
        "\"I'm going on a run.\"    #correct , single quotes can be used within double quotes."
      ],
      "metadata": {
        "colab": {
          "base_uri": "https://localhost:8080/",
          "height": 36
        },
        "id": "K-P2iVpFUo8n",
        "outputId": "f9e32f26-8ad0-49b7-bfcc-294d1c83da18"
      },
      "execution_count": 23,
      "outputs": [
        {
          "output_type": "execute_result",
          "data": {
            "text/plain": [
              "\"I'm going on a run.\""
            ],
            "application/vnd.google.colaboratory.intrinsic+json": {
              "type": "string"
            }
          },
          "metadata": {},
          "execution_count": 23
        }
      ]
    },
    {
      "cell_type": "code",
      "source": [
        "#The purpose of the print() statement in Python is to display output to the screen\n",
        "print(\"hello\")"
      ],
      "metadata": {
        "colab": {
          "base_uri": "https://localhost:8080/"
        },
        "id": "vJAtLaGwUzml",
        "outputId": "9d083561-dcce-4a27-d0c2-eecb8abc9006"
      },
      "execution_count": 25,
      "outputs": [
        {
          "output_type": "stream",
          "name": "stdout",
          "text": [
            "hello\n"
          ]
        }
      ]
    },
    {
      "cell_type": "code",
      "source": [
        "#variable assignment\n",
        "str_var = \"I'm going on a run.\"\n",
        "print(str_var)"
      ],
      "metadata": {
        "colab": {
          "base_uri": "https://localhost:8080/"
        },
        "id": "YEN9N83vVQqo",
        "outputId": "195915e4-cca4-4e9f-8fad-6dfd18c6ee18"
      },
      "execution_count": 27,
      "outputs": [
        {
          "output_type": "stream",
          "name": "stdout",
          "text": [
            "I'm going on a run.\n"
          ]
        }
      ]
    },
    {
      "cell_type": "code",
      "source": [
        "#len(str_var) returns the number of characters, including: letters , spaces , Punctuation (like the apostrophe ' and period .)\n",
        "\n",
        "len(str_var)"
      ],
      "metadata": {
        "colab": {
          "base_uri": "https://localhost:8080/"
        },
        "id": "6hJR_1p8WtAM",
        "outputId": "25c4fd6d-f53f-4c90-cc8c-7b1e7d09135a"
      },
      "execution_count": 31,
      "outputs": [
        {
          "output_type": "execute_result",
          "data": {
            "text/plain": [
              "19"
            ]
          },
          "metadata": {},
          "execution_count": 31
        }
      ]
    },
    {
      "cell_type": "code",
      "source": [
        "print(\"My name is :\\n Subham laha\")"
      ],
      "metadata": {
        "colab": {
          "base_uri": "https://localhost:8080/"
        },
        "id": "nvEex-yXVdbY",
        "outputId": "eb3017e8-7129-4cfe-ad7d-6d5105884827"
      },
      "execution_count": 28,
      "outputs": [
        {
          "output_type": "stream",
          "name": "stdout",
          "text": [
            "My name is :\n",
            " Subham laha\n"
          ]
        }
      ]
    },
    {
      "cell_type": "markdown",
      "source": [
        "  <b>explanation :</b> \"\\n\" is the newline character — it tells Python to move to the next line.\n",
        "\n",
        "  So the string is split into two lines when printed.<br>\n",
        "  <b>Note</b> that there's a space before \"Subham\" because you wrote \\n Subham laha with a space after \\n"
      ],
      "metadata": {
        "id": "pQ1dVfetVyg_"
      }
    },
    {
      "cell_type": "code",
      "source": [
        "print(\"My name is :\\t Subham laha\")"
      ],
      "metadata": {
        "colab": {
          "base_uri": "https://localhost:8080/"
        },
        "id": "7AyHn8USVnZN",
        "outputId": "ae78ecf2-9922-4085-e59e-e8883666407e"
      },
      "execution_count": 29,
      "outputs": [
        {
          "output_type": "stream",
          "name": "stdout",
          "text": [
            "My name is :\t Subham laha\n"
          ]
        }
      ]
    },
    {
      "cell_type": "markdown",
      "source": [
        "<b>explanation</b> : \"\\t\" is a tab character — it adds horizontal spacing, like pressing the Tab key on your keyboard. <br>\n",
        "The tab creates a wide space between the colon (:) and Subham laha.\n"
      ],
      "metadata": {
        "id": "mj_HrmG9Wc14"
      }
    },
    {
      "cell_type": "markdown",
      "source": [
        "<u>String Indexing and Slicing</u>"
      ],
      "metadata": {
        "id": "7pBA6FEGYtUm"
      }
    },
    {
      "cell_type": "code",
      "source": [
        "my_str = \"Hello World!\"\n",
        "my_str[0]   #Indexing"
      ],
      "metadata": {
        "colab": {
          "base_uri": "https://localhost:8080/",
          "height": 36
        },
        "id": "fjpAJVyEWkDd",
        "outputId": "18f44e7d-d0c9-4483-8f3b-ff640920d3f6"
      },
      "execution_count": 33,
      "outputs": [
        {
          "output_type": "execute_result",
          "data": {
            "text/plain": [
              "'H'"
            ],
            "application/vnd.google.colaboratory.intrinsic+json": {
              "type": "string"
            }
          },
          "metadata": {},
          "execution_count": 33
        }
      ]
    },
    {
      "cell_type": "code",
      "source": [
        "my_str[6]"
      ],
      "metadata": {
        "colab": {
          "base_uri": "https://localhost:8080/",
          "height": 36
        },
        "id": "G-nrABL1ZCjc",
        "outputId": "6b9a4c47-ba79-419a-99ac-af1f1c2fdf01"
      },
      "execution_count": 34,
      "outputs": [
        {
          "output_type": "execute_result",
          "data": {
            "text/plain": [
              "'W'"
            ],
            "application/vnd.google.colaboratory.intrinsic+json": {
              "type": "string"
            }
          },
          "metadata": {},
          "execution_count": 34
        }
      ]
    },
    {
      "cell_type": "code",
      "source": [
        "my_str[-1]   #Last Character , reverse Indexing"
      ],
      "metadata": {
        "colab": {
          "base_uri": "https://localhost:8080/",
          "height": 36
        },
        "id": "a2kqRdLxZL12",
        "outputId": "3fbe583f-e5a8-49f8-aac2-ed75416a2271"
      },
      "execution_count": 36,
      "outputs": [
        {
          "output_type": "execute_result",
          "data": {
            "text/plain": [
              "'!'"
            ],
            "application/vnd.google.colaboratory.intrinsic+json": {
              "type": "string"
            }
          },
          "metadata": {},
          "execution_count": 36
        }
      ]
    },
    {
      "cell_type": "code",
      "source": [
        "my_str[-3]"
      ],
      "metadata": {
        "colab": {
          "base_uri": "https://localhost:8080/",
          "height": 36
        },
        "id": "5kA7warxZN49",
        "outputId": "48b8433d-39b8-45ee-9ef6-c33364739223"
      },
      "execution_count": 37,
      "outputs": [
        {
          "output_type": "execute_result",
          "data": {
            "text/plain": [
              "'l'"
            ],
            "application/vnd.google.colaboratory.intrinsic+json": {
              "type": "string"
            }
          },
          "metadata": {},
          "execution_count": 37
        }
      ]
    },
    {
      "cell_type": "code",
      "source": [
        "#Start at index 2 , Go to the end of the string\n",
        "my_str[2:]"
      ],
      "metadata": {
        "colab": {
          "base_uri": "https://localhost:8080/",
          "height": 36
        },
        "id": "vfkXFLUOZX2h",
        "outputId": "bee97210-3e78-4069-f051-28dc4727ef64"
      },
      "execution_count": 42,
      "outputs": [
        {
          "output_type": "execute_result",
          "data": {
            "text/plain": [
              "'llo World!'"
            ],
            "application/vnd.google.colaboratory.intrinsic+json": {
              "type": "string"
            }
          },
          "metadata": {},
          "execution_count": 42
        }
      ]
    },
    {
      "cell_type": "code",
      "source": [
        "#Start at the beginning.Go up to but not including index 7\n",
        "my_str[:7]"
      ],
      "metadata": {
        "colab": {
          "base_uri": "https://localhost:8080/",
          "height": 36
        },
        "id": "gy6ez6T2ZttK",
        "outputId": "26e605eb-1b0a-46f7-8fa6-719b77947be4"
      },
      "execution_count": 43,
      "outputs": [
        {
          "output_type": "execute_result",
          "data": {
            "text/plain": [
              "'Hello W'"
            ],
            "application/vnd.google.colaboratory.intrinsic+json": {
              "type": "string"
            }
          },
          "metadata": {},
          "execution_count": 43
        }
      ]
    },
    {
      "cell_type": "code",
      "source": [
        "#This slice starts at index 2 and goes up to but not including index 8.\n",
        "my_str[2:8]"
      ],
      "metadata": {
        "colab": {
          "base_uri": "https://localhost:8080/",
          "height": 36
        },
        "id": "ZPgp_z5uZwHZ",
        "outputId": "c46924a9-0207-44f7-d89f-1f7ecd7a64b6"
      },
      "execution_count": 45,
      "outputs": [
        {
          "output_type": "execute_result",
          "data": {
            "text/plain": [
              "'llo Wo'"
            ],
            "application/vnd.google.colaboratory.intrinsic+json": {
              "type": "string"
            }
          },
          "metadata": {},
          "execution_count": 45
        }
      ]
    },
    {
      "cell_type": "code",
      "source": [
        "#Start at index 0 , Go up to but not including index 5 and Take every 2nd character\n",
        "my_str[0:5:2]"
      ],
      "metadata": {
        "colab": {
          "base_uri": "https://localhost:8080/",
          "height": 36
        },
        "id": "GiH-TvKqaoSG",
        "outputId": "276734b5-9864-4f98-b6eb-21bbb40fe26a"
      },
      "execution_count": 49,
      "outputs": [
        {
          "output_type": "execute_result",
          "data": {
            "text/plain": [
              "'Hlo'"
            ],
            "application/vnd.google.colaboratory.intrinsic+json": {
              "type": "string"
            }
          },
          "metadata": {},
          "execution_count": 49
        }
      ]
    },
    {
      "cell_type": "markdown",
      "source": [
        "<u>String Properties</u>"
      ],
      "metadata": {
        "id": "XF3knqrsgq7k"
      }
    },
    {
      "cell_type": "markdown",
      "source": [
        "* Immutability"
      ],
      "metadata": {
        "id": "frfa0uuXhNwV"
      }
    },
    {
      "cell_type": "code",
      "source": [
        "name = \"Sam\"\n",
        "name"
      ],
      "metadata": {
        "colab": {
          "base_uri": "https://localhost:8080/",
          "height": 36
        },
        "id": "2YIaqc-DbVZC",
        "outputId": "cb013808-ca29-4fbb-a5d4-8a955792cf13"
      },
      "execution_count": 50,
      "outputs": [
        {
          "output_type": "execute_result",
          "data": {
            "text/plain": [
              "'Sam'"
            ],
            "application/vnd.google.colaboratory.intrinsic+json": {
              "type": "string"
            }
          },
          "metadata": {},
          "execution_count": 50
        }
      ]
    },
    {
      "cell_type": "code",
      "source": [
        "name[0] = \"P\""
      ],
      "metadata": {
        "colab": {
          "base_uri": "https://localhost:8080/",
          "height": 141
        },
        "id": "6SMyTSLghi8D",
        "outputId": "20df83ad-7321-46d8-a7b0-5e9fa515ca61"
      },
      "execution_count": 51,
      "outputs": [
        {
          "output_type": "error",
          "ename": "TypeError",
          "evalue": "'str' object does not support item assignment",
          "traceback": [
            "\u001b[0;31m---------------------------------------------------------------------------\u001b[0m",
            "\u001b[0;31mTypeError\u001b[0m                                 Traceback (most recent call last)",
            "\u001b[0;32m/tmp/ipython-input-155283819.py\u001b[0m in \u001b[0;36m<cell line: 0>\u001b[0;34m()\u001b[0m\n\u001b[0;32m----> 1\u001b[0;31m \u001b[0mname\u001b[0m\u001b[0;34m[\u001b[0m\u001b[0;36m0\u001b[0m\u001b[0;34m]\u001b[0m \u001b[0;34m=\u001b[0m \u001b[0;34m\"P\"\u001b[0m\u001b[0;34m\u001b[0m\u001b[0;34m\u001b[0m\u001b[0m\n\u001b[0m",
            "\u001b[0;31mTypeError\u001b[0m: 'str' object does not support item assignment"
          ]
        }
      ]
    },
    {
      "cell_type": "code",
      "source": [
        "'P'+name[1:]"
      ],
      "metadata": {
        "colab": {
          "base_uri": "https://localhost:8080/",
          "height": 36
        },
        "id": "rmvQipZ6hk8S",
        "outputId": "8bb2806a-8285-4b84-e656-23ad7636c4b0"
      },
      "execution_count": 52,
      "outputs": [
        {
          "output_type": "execute_result",
          "data": {
            "text/plain": [
              "'Pam'"
            ],
            "application/vnd.google.colaboratory.intrinsic+json": {
              "type": "string"
            }
          },
          "metadata": {},
          "execution_count": 52
        }
      ]
    },
    {
      "cell_type": "code",
      "source": [
        "name[0]*10"
      ],
      "metadata": {
        "colab": {
          "base_uri": "https://localhost:8080/",
          "height": 36
        },
        "id": "JVHrrAjkhzKF",
        "outputId": "7c73059d-256b-45a7-d779-6f46eb2b99a4"
      },
      "execution_count": 53,
      "outputs": [
        {
          "output_type": "execute_result",
          "data": {
            "text/plain": [
              "'SSSSSSSSSS'"
            ],
            "application/vnd.google.colaboratory.intrinsic+json": {
              "type": "string"
            }
          },
          "metadata": {},
          "execution_count": 53
        }
      ]
    },
    {
      "cell_type": "code",
      "source": [
        "'2'+'3'"
      ],
      "metadata": {
        "colab": {
          "base_uri": "https://localhost:8080/",
          "height": 36
        },
        "id": "IdwBJwWTh3k0",
        "outputId": "bc532262-ba64-4d7f-eb86-ec2760adcf06"
      },
      "execution_count": 54,
      "outputs": [
        {
          "output_type": "execute_result",
          "data": {
            "text/plain": [
              "'23'"
            ],
            "application/vnd.google.colaboratory.intrinsic+json": {
              "type": "string"
            }
          },
          "metadata": {},
          "execution_count": 54
        }
      ]
    },
    {
      "cell_type": "code",
      "source": [
        "name.upper()   #displays the entire string in upper case"
      ],
      "metadata": {
        "colab": {
          "base_uri": "https://localhost:8080/",
          "height": 36
        },
        "id": "gwKBHYLzh7Ul",
        "outputId": "7ab64ecc-f517-4760-dde9-6d7ad6866ec4"
      },
      "execution_count": 56,
      "outputs": [
        {
          "output_type": "execute_result",
          "data": {
            "text/plain": [
              "'SAM'"
            ],
            "application/vnd.google.colaboratory.intrinsic+json": {
              "type": "string"
            }
          },
          "metadata": {},
          "execution_count": 56
        }
      ]
    },
    {
      "cell_type": "code",
      "source": [
        "name.lower()   #displays the entire string in lower case"
      ],
      "metadata": {
        "colab": {
          "base_uri": "https://localhost:8080/",
          "height": 36
        },
        "id": "H4m6dEs2iAL1",
        "outputId": "9fc69ffa-bcae-43ee-ba49-8eb6bcede3e2"
      },
      "execution_count": 57,
      "outputs": [
        {
          "output_type": "execute_result",
          "data": {
            "text/plain": [
              "'sam'"
            ],
            "application/vnd.google.colaboratory.intrinsic+json": {
              "type": "string"
            }
          },
          "metadata": {},
          "execution_count": 57
        }
      ]
    },
    {
      "cell_type": "code",
      "source": [
        "my_str.split()  #splits the entire string as per a mentioned character.If nothing is mentioned , then by default \" \" is considered."
      ],
      "metadata": {
        "colab": {
          "base_uri": "https://localhost:8080/"
        },
        "id": "MiaeIMeiiIjt",
        "outputId": "d35c2f64-683f-4ba5-910f-9dda4ee35376"
      },
      "execution_count": 59,
      "outputs": [
        {
          "output_type": "execute_result",
          "data": {
            "text/plain": [
              "['Hello', 'World!']"
            ]
          },
          "metadata": {},
          "execution_count": 59
        }
      ]
    },
    {
      "cell_type": "code",
      "source": [
        "my_str.split('l')  #splits as per character 'l'"
      ],
      "metadata": {
        "colab": {
          "base_uri": "https://localhost:8080/"
        },
        "id": "nhTzbvveiOTK",
        "outputId": "1513502a-37c9-4c3b-d5f8-e35717107253"
      },
      "execution_count": 61,
      "outputs": [
        {
          "output_type": "execute_result",
          "data": {
            "text/plain": [
              "['He', '', 'o Wor', 'd!']"
            ]
          },
          "metadata": {},
          "execution_count": 61
        }
      ]
    },
    {
      "cell_type": "markdown",
      "source": [
        "1. <b>Are strings mutable?</b>\n",
        "\n",
        "  Strings are not mutable! (meaning you can't use indexing to change individual elements of a string)\n",
        "\n",
        "2. <b>How do I create comments in my code?</b>\n",
        "\n",
        "  You can use the hashtag # to create comments in your code"
      ],
      "metadata": {
        "id": "E16Pt3h2ilK1"
      }
    },
    {
      "cell_type": "markdown",
      "source": [
        "<u>Print Formatting With Strings</u>"
      ],
      "metadata": {
        "id": "YM6uOGtVi9p1"
      }
    },
    {
      "cell_type": "markdown",
      "source": [
        "* Often you will want to “inject” a variable into your string for printing. For example:\n",
        "\n",
        "  my_name = “Jose”\n",
        "  print(“Hello ” + my_name)\n",
        "\n",
        "* There are multiple ways to format strings for printing variables in them.\n",
        "This is known as string interpolation.\n"
      ],
      "metadata": {
        "id": "x84Ywy1Mljpl"
      }
    },
    {
      "cell_type": "markdown",
      "source": [
        "Let’s explore two methods for this:\n",
        "*  .format() method\n",
        "* f-strings (formatted string literals)\n"
      ],
      "metadata": {
        "id": "NcJrxUPRl4BV"
      }
    },
    {
      "cell_type": "code",
      "source": [
        "print('This is a string {}'.format(\"STRING INSERTED\"))   # using .format()"
      ],
      "metadata": {
        "colab": {
          "base_uri": "https://localhost:8080/"
        },
        "id": "4uw8zSoYimMm",
        "outputId": "7c5d8657-a3aa-4e68-ce9a-883da5c3e7f6"
      },
      "execution_count": 62,
      "outputs": [
        {
          "output_type": "stream",
          "name": "stdout",
          "text": [
            "This is a string STRING INSERTED\n"
          ]
        }
      ]
    },
    {
      "cell_type": "code",
      "source": [
        "print('The {2} {1} {0}'.format('fox','brown','quick'))  # using .format()"
      ],
      "metadata": {
        "id": "K0jzTngompIp",
        "outputId": "87523614-8138-43c5-d319-d7913aa49622",
        "colab": {
          "base_uri": "https://localhost:8080/"
        }
      },
      "execution_count": 65,
      "outputs": [
        {
          "output_type": "stream",
          "name": "stdout",
          "text": [
            "The quick brown fox\n"
          ]
        }
      ]
    },
    {
      "cell_type": "code",
      "source": [
        "age = 28\n",
        "print(\"My age is {}.\".format(age))    # using .format()"
      ],
      "metadata": {
        "id": "uIj76bnxnEKu",
        "outputId": "136dc19c-fd01-4a4a-d51c-55de379d551d",
        "colab": {
          "base_uri": "https://localhost:8080/"
        }
      },
      "execution_count": 68,
      "outputs": [
        {
          "output_type": "stream",
          "name": "stdout",
          "text": [
            "My age is 28.\n"
          ]
        }
      ]
    },
    {
      "cell_type": "code",
      "source": [
        "print(\"My age is {:.2f}.\".format(age))  # using .format()   with 2 decimal places"
      ],
      "metadata": {
        "id": "_K9aC5FbnW4q",
        "outputId": "f536675b-f263-4e8e-d536-e7c884ca0b4b",
        "colab": {
          "base_uri": "https://localhost:8080/"
        }
      },
      "execution_count": 74,
      "outputs": [
        {
          "output_type": "stream",
          "name": "stdout",
          "text": [
            "My age is 28.00.\n"
          ]
        }
      ]
    },
    {
      "cell_type": "code",
      "source": [
        "print(\"My name is {} and my age is {} years old.\".format('Subham',28))  # using .format()"
      ],
      "metadata": {
        "id": "ilu9VmcIocet",
        "outputId": "aaa1f542-bd05-4765-fa48-da3c046cf448",
        "colab": {
          "base_uri": "https://localhost:8080/"
        }
      },
      "execution_count": 80,
      "outputs": [
        {
          "output_type": "stream",
          "name": "stdout",
          "text": [
            "My name is Subham and my age is 28 years old.\n"
          ]
        }
      ]
    },
    {
      "cell_type": "code",
      "source": [
        "print(\"My name is {0} and my age is {1} years old.\".format('Subham',28))   # using .format()"
      ],
      "metadata": {
        "id": "FBxCGJoSodDS",
        "outputId": "7fce288c-8fd0-4126-d7ce-785f5ff963fb",
        "colab": {
          "base_uri": "https://localhost:8080/"
        }
      },
      "execution_count": 81,
      "outputs": [
        {
          "output_type": "stream",
          "name": "stdout",
          "text": [
            "My name is Subham and my age is 28 years old.\n"
          ]
        }
      ]
    },
    {
      "cell_type": "code",
      "source": [
        "print(f\"This is a string {'STRING INSERTED'}\")    # using f-strings"
      ],
      "metadata": {
        "id": "HBj4pFKVmTB6",
        "outputId": "a8bce631-46be-45ea-d98f-3ad0d3ec1501",
        "colab": {
          "base_uri": "https://localhost:8080/"
        }
      },
      "execution_count": 64,
      "outputs": [
        {
          "output_type": "stream",
          "name": "stdout",
          "text": [
            "This is a string STRING INSERTED\n"
          ]
        }
      ]
    },
    {
      "cell_type": "code",
      "source": [
        "print(f\"The {'quick'} {'brown'} {'fox'}\")   # using f-strings"
      ],
      "metadata": {
        "id": "4m9c-cIGmf1_",
        "outputId": "da426b08-7ca6-4a6d-dad5-246c3e03c73c",
        "colab": {
          "base_uri": "https://localhost:8080/"
        }
      },
      "execution_count": 66,
      "outputs": [
        {
          "output_type": "stream",
          "name": "stdout",
          "text": [
            "The quick brown fox\n"
          ]
        }
      ]
    },
    {
      "cell_type": "code",
      "source": [
        "age = 28\n",
        "print(f\"My age is {age}.\")   # using f-strings"
      ],
      "metadata": {
        "id": "9Dupn-Dfm8YB",
        "outputId": "c74022a9-ab6d-46b6-a84f-4610274d74e5",
        "colab": {
          "base_uri": "https://localhost:8080/"
        }
      },
      "execution_count": 69,
      "outputs": [
        {
          "output_type": "stream",
          "name": "stdout",
          "text": [
            "My age is 28.\n"
          ]
        }
      ]
    },
    {
      "cell_type": "code",
      "source": [
        "print(f\"My age is {age:.2f}.\") # using f-strings with 2 decimal places"
      ],
      "metadata": {
        "id": "adIKltyOnhJG",
        "outputId": "308328b6-5242-400e-8f7d-c859c0c34cc6",
        "colab": {
          "base_uri": "https://localhost:8080/"
        }
      },
      "execution_count": 75,
      "outputs": [
        {
          "output_type": "stream",
          "name": "stdout",
          "text": [
            "My age is 28.00.\n"
          ]
        }
      ]
    },
    {
      "cell_type": "code",
      "source": [
        "name = \"Subham\"\n",
        "age = 28\n",
        "print(f\"My name is {name} and my age is {age}  years old.\")       # using f-strings"
      ],
      "metadata": {
        "id": "Mn55k3nmoANq",
        "outputId": "b7f5baa9-ce1d-4702-86f3-582898912267",
        "colab": {
          "base_uri": "https://localhost:8080/"
        }
      },
      "execution_count": 79,
      "outputs": [
        {
          "output_type": "stream",
          "name": "stdout",
          "text": [
            "My name is Subham and my age is 28  years old.\n"
          ]
        }
      ]
    }
  ]
}