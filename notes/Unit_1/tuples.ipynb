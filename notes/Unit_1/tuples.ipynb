{
  "nbformat": 4,
  "nbformat_minor": 0,
  "metadata": {
    "colab": {
      "provenance": []
    },
    "kernelspec": {
      "name": "python3",
      "display_name": "Python 3"
    },
    "language_info": {
      "name": "python"
    }
  },
  "cells": [
    {
      "cell_type": "markdown",
      "source": [
        "Tuples are very similar to lists. However they have one key difference - **immutability.**\n",
        "\n",
        "Once an element is inside a tuple, it can not be reassigned.\n",
        "Tuples use parenthesis:  (1,2,3)"
      ],
      "metadata": {
        "id": "f51v0P471TbA"
      }
    },
    {
      "cell_type": "code",
      "source": [
        "# Create a tuple\n",
        "t = (1,2,3)\n",
        "\n",
        "# Check len just like a list\n",
        "len(t)"
      ],
      "metadata": {
        "colab": {
          "base_uri": "https://localhost:8080/"
        },
        "id": "gJImPhh81Ss6",
        "outputId": "733bd773-e3e5-41e5-e533-29415d83ca08"
      },
      "execution_count": 92,
      "outputs": [
        {
          "output_type": "execute_result",
          "data": {
            "text/plain": [
              "3"
            ]
          },
          "metadata": {},
          "execution_count": 92
        }
      ]
    },
    {
      "cell_type": "code",
      "source": [
        "# Can also mix object types\n",
        "t = ('one',2)\n",
        "\n",
        "# Show\n",
        "t"
      ],
      "metadata": {
        "colab": {
          "base_uri": "https://localhost:8080/"
        },
        "id": "zvnLRP9Q1qpQ",
        "outputId": "b356f661-bca3-43e7-8ad7-508ea086bc47"
      },
      "execution_count": 93,
      "outputs": [
        {
          "output_type": "execute_result",
          "data": {
            "text/plain": [
              "('one', 2)"
            ]
          },
          "metadata": {},
          "execution_count": 93
        }
      ]
    },
    {
      "cell_type": "code",
      "source": [
        "# Use indexing just like we did in lists\n",
        "t[0]\n"
      ],
      "metadata": {
        "colab": {
          "base_uri": "https://localhost:8080/",
          "height": 36
        },
        "id": "7Rpoeqf_1tXB",
        "outputId": "a63c7907-db6c-4676-cabf-fb8c60f7e5bd"
      },
      "execution_count": 94,
      "outputs": [
        {
          "output_type": "execute_result",
          "data": {
            "text/plain": [
              "'one'"
            ],
            "application/vnd.google.colaboratory.intrinsic+json": {
              "type": "string"
            }
          },
          "metadata": {},
          "execution_count": 94
        }
      ]
    },
    {
      "cell_type": "code",
      "source": [
        "# Slicing just like a list\n",
        "t[-1]"
      ],
      "metadata": {
        "colab": {
          "base_uri": "https://localhost:8080/"
        },
        "id": "KKxOj5lr1wmC",
        "outputId": "10cb5928-094c-4ffc-97d9-e84906e4dcce"
      },
      "execution_count": 95,
      "outputs": [
        {
          "output_type": "execute_result",
          "data": {
            "text/plain": [
              "2"
            ]
          },
          "metadata": {},
          "execution_count": 95
        }
      ]
    },
    {
      "cell_type": "markdown",
      "source": [
        "## Basic Tuple Methods\n",
        "\n",
        "Tuples have built-in methods"
      ],
      "metadata": {
        "id": "aeYnNfBK12UD"
      }
    },
    {
      "cell_type": "code",
      "source": [
        "# Use .index to enter a value and return the index\n",
        "t.index('one')"
      ],
      "metadata": {
        "colab": {
          "base_uri": "https://localhost:8080/"
        },
        "id": "SNP3OPeM1x1S",
        "outputId": "84bc380a-983c-4936-9705-6f930f73ed8b"
      },
      "execution_count": 96,
      "outputs": [
        {
          "output_type": "execute_result",
          "data": {
            "text/plain": [
              "0"
            ]
          },
          "metadata": {},
          "execution_count": 96
        }
      ]
    },
    {
      "cell_type": "code",
      "source": [
        "# Use .count to count the number of times a value appears\n",
        "t.count('one')"
      ],
      "metadata": {
        "colab": {
          "base_uri": "https://localhost:8080/"
        },
        "id": "fm75yDm41-9j",
        "outputId": "aea348e9-ce01-4e8f-fb1e-f0a9bdf53130"
      },
      "execution_count": 97,
      "outputs": [
        {
          "output_type": "execute_result",
          "data": {
            "text/plain": [
              "1"
            ]
          },
          "metadata": {},
          "execution_count": 97
        }
      ]
    },
    {
      "cell_type": "markdown",
      "source": [
        "## Immutability\n",
        "\n",
        "Tuples are immutable."
      ],
      "metadata": {
        "id": "rfPtK4Cy2CEj"
      }
    },
    {
      "cell_type": "code",
      "source": [
        "t[0]= 'change'"
      ],
      "metadata": {
        "colab": {
          "base_uri": "https://localhost:8080/",
          "height": 141
        },
        "id": "WsIium-w2AeI",
        "outputId": "dfd6f468-3c22-4493-9202-056fbeb50495"
      },
      "execution_count": 99,
      "outputs": [
        {
          "output_type": "error",
          "ename": "TypeError",
          "evalue": "'tuple' object does not support item assignment",
          "traceback": [
            "\u001b[0;31m---------------------------------------------------------------------------\u001b[0m",
            "\u001b[0;31mTypeError\u001b[0m                                 Traceback (most recent call last)",
            "\u001b[0;32m/tmp/ipython-input-1765062513.py\u001b[0m in \u001b[0;36m<cell line: 0>\u001b[0;34m()\u001b[0m\n\u001b[0;32m----> 1\u001b[0;31m \u001b[0mt\u001b[0m\u001b[0;34m[\u001b[0m\u001b[0;36m0\u001b[0m\u001b[0;34m]\u001b[0m\u001b[0;34m=\u001b[0m \u001b[0;34m'change'\u001b[0m\u001b[0;34m\u001b[0m\u001b[0;34m\u001b[0m\u001b[0m\n\u001b[0m",
            "\u001b[0;31mTypeError\u001b[0m: 'tuple' object does not support item assignment"
          ]
        }
      ]
    },
    {
      "cell_type": "code",
      "source": [
        "t.append('nope')"
      ],
      "metadata": {
        "colab": {
          "base_uri": "https://localhost:8080/",
          "height": 141
        },
        "id": "O5ns4P1i2HXl",
        "outputId": "5601b5b8-d874-4f08-a160-33f9de8cf8cd"
      },
      "execution_count": 100,
      "outputs": [
        {
          "output_type": "error",
          "ename": "AttributeError",
          "evalue": "'tuple' object has no attribute 'append'",
          "traceback": [
            "\u001b[0;31m---------------------------------------------------------------------------\u001b[0m",
            "\u001b[0;31mAttributeError\u001b[0m                            Traceback (most recent call last)",
            "\u001b[0;32m/tmp/ipython-input-3007115639.py\u001b[0m in \u001b[0;36m<cell line: 0>\u001b[0;34m()\u001b[0m\n\u001b[0;32m----> 1\u001b[0;31m \u001b[0mt\u001b[0m\u001b[0;34m.\u001b[0m\u001b[0mappend\u001b[0m\u001b[0;34m(\u001b[0m\u001b[0;34m'nope'\u001b[0m\u001b[0;34m)\u001b[0m\u001b[0;34m\u001b[0m\u001b[0;34m\u001b[0m\u001b[0m\n\u001b[0m",
            "\u001b[0;31mAttributeError\u001b[0m: 'tuple' object has no attribute 'append'"
          ]
        }
      ]
    },
    {
      "cell_type": "markdown",
      "source": [
        "**When to use Tuples? <br>**\n",
        "\n",
        "Tuples are immutable, so they’re a good choice when\n",
        "\n",
        "\n",
        "  * the data shouldn't be changed accidentally.\n",
        "  * to return multiple values neatly.\n",
        "  * Tuples use less memory and are slightly faster than lists for iteration and   access. So for constant-sized, read-only sequences, tuples are preferred.\n",
        "\n",
        "  eg.\n",
        "\n",
        "```\n",
        "location = (40.7128, -74.0060)  # latitude, longitude\n",
        "latitude, longitude = location\n",
        "print(latitude)  # Output: 40.7128\n",
        "print(longitude)   # Output: -74.0060\n",
        "\n",
        "```\n",
        "\n",
        "\n",
        "\n",
        "\n",
        "\n"
      ],
      "metadata": {
        "id": "nKbyWDrD3Fee"
      }
    }
  ]
}