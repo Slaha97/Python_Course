{
  "nbformat": 4,
  "nbformat_minor": 0,
  "metadata": {
    "colab": {
      "provenance": []
    },
    "kernelspec": {
      "name": "python3",
      "display_name": "Python 3"
    },
    "language_info": {
      "name": "python"
    }
  },
  "cells": [
    {
      "cell_type": "markdown",
      "source": [
        "Introduction\n",
        "============\n",
        "\n",
        "Python is an easy-to-learn and powerful Object-Oriented Programming language. It is a high-level programming language.</br></br>\n",
        "\n",
        "\n",
        "\n",
        "**Why Python?**\n",
        "1. Easy to Use: Python is comparatively an easier-to-use language as compared to other programming languages.\n",
        "2. Expressive Language: The syntax of Python is closer to how you would write pseudocode. Which makes it capable of expressing the code’s purpose better than many other languages.\n",
        "3. Interpreted Language: Python is an interpreted language; this means that the Python installation interprets and executes the code a line at a time.\n",
        "Python is one of the most popular programming languages to be used in Web Development owing to the variety of Web Development platforms built over it like Django, Flask, etc.</br></br>\n",
        "\n",
        "\n",
        "\n",
        "**It is used for:**\n",
        "\n",
        "* web development (server-side),\n",
        "* software development,\n",
        "* mathematics,\n",
        "* system scripting.</br></br>\n",
        "\n",
        "\n",
        "**Why Python?**\n",
        "\n",
        "* Python works on different platforms (Windows, Mac, Linux, Raspberry Pi, etc).\n",
        "* Python has a simple syntax similar to the English language.\n",
        "* Python has a syntax that allows developers to write programs with fewer lines than some other programming languages.\n",
        "* Python runs on an interpreter system, meaning that code can be executed as soon as it is written. This means that prototyping can be very quick.\n",
        "* Python can be treated in a procedural way, an object-oriented way or a functional way.</br></br>\n",
        "\n",
        "\n",
        "Good to know\n",
        "* The most recent major version of Python is Python 3."
      ],
      "metadata": {
        "id": "aR2rMwVw-xV5"
      }
    },
    {
      "cell_type": "markdown",
      "source": [
        "**Python Comments**\n",
        "\n",
        "\n",
        "1. Comments can be used to explain Python code.\n",
        "2. Comments can be used to make the code more readable.\n",
        "3. Comments can be used to prevent execution when testing code.\n",
        "\n",
        "\n",
        "\n",
        "**Creating a Comment**\n",
        "\n",
        "Comments start with a '#', and Python will ignore them:"
      ],
      "metadata": {
        "id": "iiJKKvgnhFcO"
      }
    },
    {
      "cell_type": "markdown",
      "source": [
        "```\n",
        "# This is a how we write a comment in python.\n",
        "print(\"Hello, World!\")\n",
        "\n",
        "```\n",
        "\n"
      ],
      "metadata": {
        "id": "35LA9GayhW_i"
      }
    },
    {
      "cell_type": "markdown",
      "source": [
        "**Multi-Line Comments**\n",
        "\n",
        "\n",
        "Python does not really have a syntax for multi-line comments.\n",
        "To add a multiline comment you could insert a '#' for each line:\n",
        "```\n",
        "# This way we can\n",
        "# Write comments in\n",
        "# Multiple lines.\n",
        "print(\"Hello, World!\")\n",
        "```"
      ],
      "metadata": {
        "id": "P3mkZOQnhhHj"
      }
    },
    {
      "cell_type": "markdown",
      "source": [
        "Or, not quite as intended, you can use a multiline string.\n",
        "\n",
        "```\n",
        "\"\"\"\n",
        "Another way to write\n",
        "comments in more than one\n",
        "Line.\n",
        "\"\"\"\n",
        "print(\"Hello, World!\")\n",
        "```"
      ],
      "metadata": {
        "id": "E3fjkN73hyK-"
      }
    }
  ]
}