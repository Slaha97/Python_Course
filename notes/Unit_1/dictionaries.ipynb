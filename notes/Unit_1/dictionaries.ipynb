{
  "nbformat": 4,
  "nbformat_minor": 0,
  "metadata": {
    "colab": {
      "provenance": []
    },
    "kernelspec": {
      "name": "python3",
      "display_name": "Python 3"
    },
    "language_info": {
      "name": "python"
    }
  },
  "cells": [
    {
      "cell_type": "markdown",
      "source": [
        "Dictionaries are unordered mappings for storing objects.\n",
        "* Dictionaries use  a key-value pairing instead.\n",
        "* This key-value pair allows users to quickly grab objects without needing to know an index location.\n"
      ],
      "metadata": {
        "id": "a9LsG15km1t4"
      }
    },
    {
      "cell_type": "markdown",
      "source": [
        "Dictionaries use curly braces and colons to signify the keys and their associated values.\n",
        "                 \n",
        "                 {'key1':'value1','key2':'value2'}\n"
      ],
      "metadata": {
        "id": "WZ1Prey6nFJ9"
      }
    },
    {
      "cell_type": "markdown",
      "source": [
        "So when to choose a list and when to choose a dictionary?\n",
        "* **Dictionaries:**  Objects retrieved by key name.Unordered and can not be sorted.\n",
        "* **Lists:**  Objects retrieved by location. Ordered Sequence can be indexed or sliced.\n"
      ],
      "metadata": {
        "id": "7-FVc3XDnV9H"
      }
    },
    {
      "cell_type": "code",
      "source": [
        "# Make a dictionary with {} and : to signify a key and a value\n",
        "my_dict = {'key1':'value1','key2':'value2'}\n",
        "\n",
        "# Call values by their key\n",
        "my_dict['key2']"
      ],
      "metadata": {
        "colab": {
          "base_uri": "https://localhost:8080/",
          "height": 36
        },
        "id": "jIRgz6utm74c",
        "outputId": "f3dd68c1-02c6-450e-ec42-08bfa2097386"
      },
      "execution_count": 79,
      "outputs": [
        {
          "output_type": "execute_result",
          "data": {
            "text/plain": [
              "'value2'"
            ],
            "application/vnd.google.colaboratory.intrinsic+json": {
              "type": "string"
            }
          },
          "metadata": {},
          "execution_count": 79
        }
      ]
    },
    {
      "cell_type": "markdown",
      "source": [
        "Dictionaries are very flexible in the data types they can hold. For example:"
      ],
      "metadata": {
        "id": "I2nxXkCRoLoQ"
      }
    },
    {
      "cell_type": "code",
      "source": [
        "my_dict = {'key1':123,'key2':[12,23,33],'key3':['item0','item1','item2']}\n",
        "\n",
        "#call items from the dictionary\n",
        "my_dict['key3']"
      ],
      "metadata": {
        "colab": {
          "base_uri": "https://localhost:8080/"
        },
        "id": "4E2ssYlLnwr5",
        "outputId": "16368c2b-d4cb-4721-c392-3d5ce888e06f"
      },
      "execution_count": 80,
      "outputs": [
        {
          "output_type": "execute_result",
          "data": {
            "text/plain": [
              "['item0', 'item1', 'item2']"
            ]
          },
          "metadata": {},
          "execution_count": 80
        }
      ]
    },
    {
      "cell_type": "code",
      "source": [
        "# Can call an index on that value\n",
        "my_dict['key3'][0]"
      ],
      "metadata": {
        "colab": {
          "base_uri": "https://localhost:8080/",
          "height": 36
        },
        "id": "9alW7eoLoGlf",
        "outputId": "78932a63-ae21-4190-a915-9e0acdbbb3b1"
      },
      "execution_count": 81,
      "outputs": [
        {
          "output_type": "execute_result",
          "data": {
            "text/plain": [
              "'item0'"
            ],
            "application/vnd.google.colaboratory.intrinsic+json": {
              "type": "string"
            }
          },
          "metadata": {},
          "execution_count": 81
        }
      ]
    },
    {
      "cell_type": "code",
      "source": [
        "# Can then even call methods on that value\n",
        "my_dict['key3'][0].upper()"
      ],
      "metadata": {
        "colab": {
          "base_uri": "https://localhost:8080/",
          "height": 36
        },
        "id": "d-9Uq0GToHMI",
        "outputId": "e5bdd17b-3f2e-4d53-972f-7b3817b1e9e7"
      },
      "execution_count": 82,
      "outputs": [
        {
          "output_type": "execute_result",
          "data": {
            "text/plain": [
              "'ITEM0'"
            ],
            "application/vnd.google.colaboratory.intrinsic+json": {
              "type": "string"
            }
          },
          "metadata": {},
          "execution_count": 82
        }
      ]
    },
    {
      "cell_type": "markdown",
      "source": [
        "We can affect the values of a key as well."
      ],
      "metadata": {
        "id": "TeMWLyGVoXCL"
      }
    },
    {
      "cell_type": "code",
      "source": [
        "my_dict['key1']"
      ],
      "metadata": {
        "colab": {
          "base_uri": "https://localhost:8080/"
        },
        "id": "cilXmFOsoSkf",
        "outputId": "35e905cf-4f80-4829-b36f-c3335f184689"
      },
      "execution_count": 83,
      "outputs": [
        {
          "output_type": "execute_result",
          "data": {
            "text/plain": [
              "123"
            ]
          },
          "metadata": {},
          "execution_count": 83
        }
      ]
    },
    {
      "cell_type": "code",
      "source": [
        "# Subtract 123 from the value\n",
        "my_dict['key1'] = my_dict['key1'] - 123\n",
        "my_dict['key1']"
      ],
      "metadata": {
        "colab": {
          "base_uri": "https://localhost:8080/"
        },
        "id": "bv5RI7xcoaIw",
        "outputId": "63214819-67a2-40e6-a66e-6c4ab1b782c8"
      },
      "execution_count": 84,
      "outputs": [
        {
          "output_type": "execute_result",
          "data": {
            "text/plain": [
              "0"
            ]
          },
          "metadata": {},
          "execution_count": 84
        }
      ]
    },
    {
      "cell_type": "markdown",
      "source": [
        "A quick note, Python has a built-in method of doing a self subtraction or addition (or multiplication or division). <br>We could have also used += or -= for the above statement. For example:\n",
        "\n"
      ],
      "metadata": {
        "id": "kdWYzPehorzt"
      }
    },
    {
      "cell_type": "code",
      "source": [
        "# Set the object equal to itself minus 123\n",
        "my_dict['key1'] -= 123\n",
        "my_dict['key1']"
      ],
      "metadata": {
        "colab": {
          "base_uri": "https://localhost:8080/"
        },
        "id": "RhOTcZ0Qoriq",
        "outputId": "4f5c976b-e662-489b-8d93-3e164f6fc82e"
      },
      "execution_count": 85,
      "outputs": [
        {
          "output_type": "execute_result",
          "data": {
            "text/plain": [
              "-123"
            ]
          },
          "metadata": {},
          "execution_count": 85
        }
      ]
    },
    {
      "cell_type": "markdown",
      "source": [
        "We can also create keys by assignment."
      ],
      "metadata": {
        "id": "V_s7M4hpq-FI"
      }
    },
    {
      "cell_type": "code",
      "source": [
        "# Create a new dictionary\n",
        "d = {}\n",
        "\n",
        "# Create a new key through assignment\n",
        "d['animal'] = 'Dog'\n",
        "\n",
        "# Can do this with any object\n",
        "d['answer'] = 42"
      ],
      "metadata": {
        "id": "yy3mhQnJovz_"
      },
      "execution_count": 86,
      "outputs": []
    },
    {
      "cell_type": "code",
      "source": [
        "#Show\n",
        "d"
      ],
      "metadata": {
        "colab": {
          "base_uri": "https://localhost:8080/"
        },
        "id": "zWyJp3gVq4F9",
        "outputId": "6310932d-baf8-40a2-ff60-f8e4cde2e4ba"
      },
      "execution_count": 87,
      "outputs": [
        {
          "output_type": "execute_result",
          "data": {
            "text/plain": [
              "{'animal': 'Dog', 'answer': 42}"
            ]
          },
          "metadata": {},
          "execution_count": 87
        }
      ]
    },
    {
      "cell_type": "markdown",
      "source": [
        "Nesting with Dictionaries"
      ],
      "metadata": {
        "id": "F_UYI22crXXT"
      }
    },
    {
      "cell_type": "code",
      "source": [
        "#Let's see a dictionary nested inside a dictionary:\n",
        "\n",
        "# Dictionary nested inside a dictionary nested inside a dictionary\n",
        "d = {'key1':{'nestkey':{'subnestkey':'value'}}}\n",
        "\n",
        "\n",
        "# Keep calling the keys\n",
        "d['key1']['nestkey']['subnestkey']"
      ],
      "metadata": {
        "colab": {
          "base_uri": "https://localhost:8080/",
          "height": 36
        },
        "id": "4ATNhQ_hrVpQ",
        "outputId": "65eda8db-864b-4014-94d1-5e1cf5c969c5"
      },
      "execution_count": 88,
      "outputs": [
        {
          "output_type": "execute_result",
          "data": {
            "text/plain": [
              "'value'"
            ],
            "application/vnd.google.colaboratory.intrinsic+json": {
              "type": "string"
            }
          },
          "metadata": {},
          "execution_count": 88
        }
      ]
    },
    {
      "cell_type": "markdown",
      "source": [
        "A few Dictionary Methods"
      ],
      "metadata": {
        "id": "iRO3LoJUrniA"
      }
    },
    {
      "cell_type": "code",
      "source": [
        "# Create a typical dictionary\n",
        "d = {'key1':1,'key2':2,'key3':3}\n",
        "\n",
        "\n",
        "\n",
        "# Method to return a list of all keys\n",
        "d.keys()"
      ],
      "metadata": {
        "colab": {
          "base_uri": "https://localhost:8080/"
        },
        "id": "2YmHFKucrfr_",
        "outputId": "b3b4fb5d-507f-4551-dc77-017bf8ffac67"
      },
      "execution_count": 89,
      "outputs": [
        {
          "output_type": "execute_result",
          "data": {
            "text/plain": [
              "dict_keys(['key1', 'key2', 'key3'])"
            ]
          },
          "metadata": {},
          "execution_count": 89
        }
      ]
    },
    {
      "cell_type": "code",
      "source": [
        "# Method to grab all values\n",
        "d.values()"
      ],
      "metadata": {
        "colab": {
          "base_uri": "https://localhost:8080/"
        },
        "id": "vAgKrF3_rtpa",
        "outputId": "c24a4ae1-4eaf-4b81-bf2c-f0b82680e23e"
      },
      "execution_count": 90,
      "outputs": [
        {
          "output_type": "execute_result",
          "data": {
            "text/plain": [
              "dict_values([1, 2, 3])"
            ]
          },
          "metadata": {},
          "execution_count": 90
        }
      ]
    },
    {
      "cell_type": "code",
      "source": [
        "# Method to return tuples of all items  (we'll learn about tuples soon)\n",
        "d.items()"
      ],
      "metadata": {
        "colab": {
          "base_uri": "https://localhost:8080/"
        },
        "id": "2aajMm5ZrvrP",
        "outputId": "eedfd7d0-57cc-4a4f-993f-a0028f94976a"
      },
      "execution_count": 91,
      "outputs": [
        {
          "output_type": "execute_result",
          "data": {
            "text/plain": [
              "dict_items([('key1', 1), ('key2', 2), ('key3', 3)])"
            ]
          },
          "metadata": {},
          "execution_count": 91
        }
      ]
    },
    {
      "cell_type": "markdown",
      "source": [
        "**1. Do dictionaries keep an order? How do I print the values of the dictionary in order?**\n",
        "\n",
        "  Dictionaries are mappings and do not retain order! If you do want the capabilities of a dictionary but you would like ordering as well, check out the ordereddict object."
      ],
      "metadata": {
        "id": "mOIsFUswsf_R"
      }
    }
  ]
}
