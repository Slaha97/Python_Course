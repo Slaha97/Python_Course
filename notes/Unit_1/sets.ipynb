{
  "nbformat": 4,
  "nbformat_minor": 0,
  "metadata": {
    "colab": {
      "provenance": []
    },
    "kernelspec": {
      "name": "python3",
      "display_name": "Python 3"
    },
    "language_info": {
      "name": "python"
    }
  },
  "cells": [
    {
      "cell_type": "markdown",
      "source": [
        "A set in Python is an unordered, mutable, and unindexed collection of unique elements."
      ],
      "metadata": {
        "id": "zjPZ-LSp7rNf"
      }
    },
    {
      "cell_type": "markdown",
      "source": [
        "Key Features:\n",
        "* No duplicates allowed\n",
        "* Unordered\n",
        "* Mutable"
      ],
      "metadata": {
        "id": "zbBHYbbH7Oh7"
      }
    },
    {
      "cell_type": "code",
      "source": [
        "x = set()\n",
        "\n",
        "\n",
        "# We add to sets with the add() method\n",
        "x.add(1)"
      ],
      "metadata": {
        "id": "9cqVohjO7P8s"
      },
      "execution_count": 101,
      "outputs": []
    },
    {
      "cell_type": "code",
      "source": [
        "#Show\n",
        "x"
      ],
      "metadata": {
        "colab": {
          "base_uri": "https://localhost:8080/"
        },
        "id": "pDLG2w0x737A",
        "outputId": "7b0549ef-c6d4-443a-ebeb-d550770d8f68"
      },
      "execution_count": 102,
      "outputs": [
        {
          "output_type": "execute_result",
          "data": {
            "text/plain": [
              "{1}"
            ]
          },
          "metadata": {},
          "execution_count": 102
        }
      ]
    },
    {
      "cell_type": "code",
      "source": [
        "# Add a different element\n",
        "x.add(2)"
      ],
      "metadata": {
        "id": "uHh2EgIW8A0B"
      },
      "execution_count": 103,
      "outputs": []
    },
    {
      "cell_type": "code",
      "source": [
        "# Try to add the same element\n",
        "x.add(1)"
      ],
      "metadata": {
        "id": "Eox0LUdc8DKa"
      },
      "execution_count": 104,
      "outputs": []
    },
    {
      "cell_type": "markdown",
      "source": [
        "Notice how it won't place another 1 there. That's because a set is only concerned with unique elements! We can cast a list with multiple repeat elements to a set to get the unique elements. For example:"
      ],
      "metadata": {
        "id": "_iWGMtuG8GEM"
      }
    },
    {
      "cell_type": "code",
      "source": [
        "# Create a list with repeats\n",
        "list1 = [1,1,2,2,3,4,5,6,1,1]\n",
        "\n",
        "# Cast as set to get unique values\n",
        "set(list1)"
      ],
      "metadata": {
        "colab": {
          "base_uri": "https://localhost:8080/"
        },
        "id": "ITWlsrku8IoH",
        "outputId": "e9ceff3d-aa95-4099-a54b-74944fe984e1"
      },
      "execution_count": 105,
      "outputs": [
        {
          "output_type": "execute_result",
          "data": {
            "text/plain": [
              "{1, 2, 3, 4, 5, 6}"
            ]
          },
          "metadata": {},
          "execution_count": 105
        }
      ]
    }
  ]
}