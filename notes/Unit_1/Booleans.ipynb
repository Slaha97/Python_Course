{
  "nbformat": 4,
  "nbformat_minor": 0,
  "metadata": {
    "colab": {
      "provenance": []
    },
    "kernelspec": {
      "name": "python3",
      "display_name": "Python 3"
    },
    "language_info": {
      "name": "python"
    }
  },
  "cells": [
    {
      "cell_type": "markdown",
      "source": [
        "Booleans are operators that allow you to convey **True** or **False** statements."
      ],
      "metadata": {
        "id": "OBBh9yLQ9J9V"
      }
    },
    {
      "cell_type": "code",
      "source": [
        "# Set object to be a boolean\n",
        "a = True\n",
        "\n",
        "\n",
        "#Show\n",
        "a"
      ],
      "metadata": {
        "colab": {
          "base_uri": "https://localhost:8080/"
        },
        "id": "6952e5LX9ECp",
        "outputId": "1d81dd9a-6c36-4bf8-c239-94777c5080b5"
      },
      "execution_count": 106,
      "outputs": [
        {
          "output_type": "execute_result",
          "data": {
            "text/plain": [
              "True"
            ]
          },
          "metadata": {},
          "execution_count": 106
        }
      ]
    },
    {
      "cell_type": "markdown",
      "source": [
        "We can also use comparison operators to create booleans. We will go over all the comparison operators later on in the course.\n"
      ],
      "metadata": {
        "id": "1SY6yw529kIH"
      }
    },
    {
      "cell_type": "code",
      "source": [
        "# Output is boolean\n",
        "1 > 2"
      ],
      "metadata": {
        "colab": {
          "base_uri": "https://localhost:8080/"
        },
        "id": "18Puyj8W9Ux4",
        "outputId": "00c17469-bf82-451b-fad6-c92beff89217"
      },
      "execution_count": 107,
      "outputs": [
        {
          "output_type": "execute_result",
          "data": {
            "text/plain": [
              "False"
            ]
          },
          "metadata": {},
          "execution_count": 107
        }
      ]
    },
    {
      "cell_type": "markdown",
      "source": [
        "We can use None as a placeholder for an object that we don't want to reassign yet:"
      ],
      "metadata": {
        "id": "P3VjOIxg9urc"
      }
    },
    {
      "cell_type": "code",
      "source": [
        "# None placeholder\n",
        "b = None\n",
        "\n",
        "# Show\n",
        "print(b)"
      ],
      "metadata": {
        "colab": {
          "base_uri": "https://localhost:8080/"
        },
        "id": "tBpsyw3n9nRL",
        "outputId": "30140c65-9164-4a3e-c77d-f4285268d453"
      },
      "execution_count": 108,
      "outputs": [
        {
          "output_type": "stream",
          "name": "stdout",
          "text": [
            "None\n"
          ]
        }
      ]
    },
    {
      "cell_type": "code",
      "source": [
        "a==b"
      ],
      "metadata": {
        "id": "FUa1zAjM9v9M",
        "outputId": "c6913367-cdff-4012-89c3-79b7f8bce1e1",
        "colab": {
          "base_uri": "https://localhost:8080/"
        }
      },
      "execution_count": 109,
      "outputs": [
        {
          "output_type": "execute_result",
          "data": {
            "text/plain": [
              "False"
            ]
          },
          "metadata": {},
          "execution_count": 109
        }
      ]
    }
  ]
}