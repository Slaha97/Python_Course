{
  "nbformat": 4,
  "nbformat_minor": 0,
  "metadata": {
    "colab": {
      "provenance": []
    },
    "kernelspec": {
      "name": "python3",
      "display_name": "Python 3"
    },
    "language_info": {
      "name": "python"
    }
  },
  "cells": [
    {
      "cell_type": "markdown",
      "source": [
        "* Use what you know about the print() function to print out the phrase \"Hello World\" . Make sure your capitalization and spacing match."
      ],
      "metadata": {
        "id": "M1thrqiCXVFa"
      }
    },
    {
      "cell_type": "code",
      "execution_count": 1,
      "metadata": {
        "colab": {
          "base_uri": "https://localhost:8080/"
        },
        "id": "dN3LSWt6XUcP",
        "outputId": "a935bae8-982d-4b1c-cf40-ced4a9e7f49b"
      },
      "outputs": [
        {
          "output_type": "stream",
          "name": "stdout",
          "text": [
          ]
        }
      ],
      "source": []
    },
    {
      "cell_type": "markdown",
      "source": [
        "* Write a string index that returns just the letter 'r'  from 'Hello World' . For example, 'Hello World'[0]  returns 'H'\n",
        "\n",
        "  You should only write one line of code for this. Do not assign a variable name to the string."
      ],
      "metadata": {
        "id": "mezsGMwOb5Tr"
      }
    },
    {
      "cell_type": "code",
      "source": [],
      "metadata": {
        "id": "v5VDlXJacBoH"
      },
      "execution_count": null,
      "outputs": []
    },
    {
      "cell_type": "markdown",
      "source": [
        "* Use string slicing to grab the word 'ink'  from inside 'tinker'  For example, 'education'[3:6]  returns 'cat'. Remember that when slicing you only go up to but not including the end index.\n",
        "\n",
        "  You should only write one line of code for this. Do not assign a variable name to the string."
      ],
      "metadata": {
        "id": "S2fVQZOGb7l6"
      }
    },
    {
      "cell_type": "code",
      "source": [],
      "metadata": {
        "id": "rTT_Xfi7cJn9"
      },
      "execution_count": null,
      "outputs": []
    },
    {
      "cell_type": "markdown",
      "source": [
        "* Write an expression using any of the string formatting methods we have learned (except f-strings, see note below) to return the phrase 'Python rules!' . For example, these phrases both return 'I like apples' :\n",
        "\n",
        "  'I like %s' %'apples'\n",
        "  'I like {}'.format('apples')\n",
        "\n",
        "  Your solution should be entered on one line. You can not use variable names, only the strings themselves.\n",
        "\n",
        "  NOTE: At this time, f-strings won't work! Udemy Coding Exercises use Python 3.5.2, and f-strings require Python 3.6 or higher."
      ],
      "metadata": {
        "id": "HHY2DmBefEbw"
      }
    },
    {
      "cell_type": "code",
      "source": [],
      "metadata": {
        "id": "xFkL-l3ncaMD"
      },
      "execution_count": null,
      "outputs": []
    }
  ]
}
