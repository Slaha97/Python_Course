{
  "nbformat": 4,
  "nbformat_minor": 0,
  "metadata": {
    "colab": {
      "provenance": []
    },
    "kernelspec": {
      "name": "python3",
      "display_name": "Python 3"
    },
    "language_info": {
      "name": "python"
    }
  },
  "cells": [
    {
      "cell_type": "markdown",
      "source": [
        "Use what you know about the print() function to print out the phrase \"Hello World\" . Make sure your capitalization and spacing match."
      ],
      "metadata": {
        "id": "M1thrqiCXVFa"
      }
    },
    {
      "cell_type": "code",
      "execution_count": null,
      "metadata": {
        "id": "dN3LSWt6XUcP"
      },
      "outputs": [],
      "source": []
    }
  ]
}